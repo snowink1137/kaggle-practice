{
 "cells": [
  {
   "cell_type": "code",
   "execution_count": 1,
   "metadata": {
    "ExecuteTime": {
     "end_time": "2021-01-05T10:40:05.078593Z",
     "start_time": "2021-01-05T10:40:03.283144Z"
    }
   },
   "outputs": [
    {
     "data": {
      "text/plain": [
       "array([2.56494936, 0.69314718, 1.38629436, 1.38629436, 1.38629436])"
      ]
     },
     "execution_count": 1,
     "metadata": {},
     "output_type": "execute_result"
    }
   ],
   "source": [
    "import pandas as pd\n",
    "import numpy as np\n",
    "\n",
    "train = pd.read_csv('./data/bike_sharing_demand/train.csv', parse_dates=['datetime'])\n",
    "test = pd.read_csv('./data/bike_sharing_demand/test.csv', parse_dates=['datetime'])\n",
    "\n",
    "# datetime 데이터 세분화\n",
    "train['datetime-year'] = train['datetime'].dt.year\n",
    "train[\"datetime-month\"] = train[\"datetime\"].dt.month\n",
    "train[\"datetime-day\"] = train[\"datetime\"].dt.day\n",
    "train['datetime-hour'] = train['datetime'].dt.hour\n",
    "train[\"datetime-minute\"] = train[\"datetime\"].dt.minute\n",
    "train[\"datetime-second\"] = train[\"datetime\"].dt.second\n",
    "## 월(0), 화(1), 수(2), 목(3), 금(4), 토(5), 일(6)\n",
    "train['datetime-dayofweek'] = train['datetime'].dt.dayofweek\n",
    "\n",
    "# teset 데이터에도 feature에 연도, 시간, 요일을 넣기 위해서 datetime 전처리\n",
    "test['datetime-year'] = test['datetime'].dt.year\n",
    "test[\"datetime-month\"] = test[\"datetime\"].dt.month\n",
    "test[\"datetime-day\"] = test[\"datetime\"].dt.day\n",
    "test['datetime-hour'] = test['datetime'].dt.hour\n",
    "test[\"datetime-minute\"] = test[\"datetime\"].dt.minute\n",
    "test[\"datetime-second\"] = test[\"datetime\"].dt.second\n",
    "## 월(0), 화(1), 수(2), 목(3), 금(4), 토(5), 일(6)\n",
    "test['datetime-dayofweek'] = test['datetime'].dt.dayofweek\n",
    "\n",
    "# 불쾌지수\n",
    "train[\"THI\"] = ((9/5)*train[\"temp\"])-(0.55*(1-(0.01*train[\"humidity\"]))*((9/5)*train[\"temp\"]-26))+32\n",
    "test[\"THI\"] = ((9/5)*train[\"temp\"])-(0.55*(1-(0.01*train[\"humidity\"]))*((9/5)*train[\"temp\"]-26))+32\n",
    "\n",
    "# train.interpolate(method='linear', limit_direction='forward', axis=0)\n",
    "train.loc[train[\"windspeed\"] == 0,\"windspeed\"] = np.nan #windspeed 0인값을 우선 nan으로 만듬\n",
    "train[\"windspeed_ipd\"] = train['windspeed'].interpolate(method='linear', order=2) #interpolate 실행\n",
    "\n",
    "train.loc[train[\"windspeed_ipd\"].isnull(), \"windspeed_ipd\"] = 10.0 \n",
    "\n",
    "# train.interpolate(method='linear', limit_direction='forward', axis=0)\n",
    "test.loc[train[\"windspeed\"] == 0,\"windspeed\"] = np.nan #windspeed 0인값을 우선 nan으로 만듬\n",
    "test[\"windspeed_ipd\"] = test['windspeed'].interpolate(method='linear', order=2) #interpolate 실행\n",
    "\n",
    "test.loc[test[\"windspeed_ipd\"].isnull(),\"windspeed_ipd\"] = 10.0 \n",
    "\n",
    "\n",
    "feature_names = ['season', 'holiday', 'workingday', 'weather', 'temp',\n",
    "       'atemp', 'humidity', 'datetime-year','datetime-hour', 'datetime-dayofweek', 'windspeed_ipd',\n",
    "       'THI']\n",
    "\n",
    "X_train = train[feature_names]\n",
    "X_test = test[feature_names]\n",
    "label_name = \"count\"\n",
    "y_train = np.log(train[label_name] +1)\n",
    "\n",
    "from sklearn.tree import DecisionTreeRegressor\n",
    "model = DecisionTreeRegressor(random_state= 37) #random_state 값을 고정, 성능과는 차이없다\n",
    "\n",
    "model.fit(X_train, y_train)\n",
    "\n",
    "predictions = model.predict(X_test)\n",
    "predictions[:5]"
   ]
  },
  {
   "cell_type": "code",
   "execution_count": 5,
   "metadata": {
    "ExecuteTime": {
     "end_time": "2021-01-05T10:43:59.420517Z",
     "start_time": "2021-01-05T10:43:59.413548Z"
    }
   },
   "outputs": [
    {
     "data": {
      "text/plain": [
       "1313"
      ]
     },
     "execution_count": 5,
     "metadata": {},
     "output_type": "execute_result"
    }
   ],
   "source": [
    "sum(train['windspeed'].isnull())"
   ]
  },
  {
   "cell_type": "code",
   "execution_count": 7,
   "metadata": {
    "ExecuteTime": {
     "end_time": "2021-01-05T10:54:40.452991Z",
     "start_time": "2021-01-05T10:54:40.435990Z"
    }
   },
   "outputs": [
    {
     "data": {
      "text/html": [
       "<div>\n",
       "<style scoped>\n",
       "    .dataframe tbody tr th:only-of-type {\n",
       "        vertical-align: middle;\n",
       "    }\n",
       "\n",
       "    .dataframe tbody tr th {\n",
       "        vertical-align: top;\n",
       "    }\n",
       "\n",
       "    .dataframe thead th {\n",
       "        text-align: right;\n",
       "    }\n",
       "</style>\n",
       "<table border=\"1\" class=\"dataframe\">\n",
       "  <thead>\n",
       "    <tr style=\"text-align: right;\">\n",
       "      <th></th>\n",
       "      <th>season</th>\n",
       "      <th>holiday</th>\n",
       "      <th>workingday</th>\n",
       "      <th>weather</th>\n",
       "      <th>temp</th>\n",
       "      <th>atemp</th>\n",
       "      <th>humidity</th>\n",
       "      <th>datetime-year</th>\n",
       "      <th>datetime-hour</th>\n",
       "      <th>datetime-dayofweek</th>\n",
       "      <th>windspeed_ipd</th>\n",
       "      <th>THI</th>\n",
       "    </tr>\n",
       "  </thead>\n",
       "  <tbody>\n",
       "    <tr>\n",
       "      <th>0</th>\n",
       "      <td>1</td>\n",
       "      <td>0</td>\n",
       "      <td>1</td>\n",
       "      <td>1</td>\n",
       "      <td>10.66</td>\n",
       "      <td>11.365</td>\n",
       "      <td>56</td>\n",
       "      <td>2011</td>\n",
       "      <td>0</td>\n",
       "      <td>3</td>\n",
       "      <td>26.0027</td>\n",
       "      <td>50.578096</td>\n",
       "    </tr>\n",
       "    <tr>\n",
       "      <th>1</th>\n",
       "      <td>1</td>\n",
       "      <td>0</td>\n",
       "      <td>1</td>\n",
       "      <td>1</td>\n",
       "      <td>10.66</td>\n",
       "      <td>13.635</td>\n",
       "      <td>56</td>\n",
       "      <td>2011</td>\n",
       "      <td>1</td>\n",
       "      <td>3</td>\n",
       "      <td>0.0000</td>\n",
       "      <td>49.310040</td>\n",
       "    </tr>\n",
       "    <tr>\n",
       "      <th>2</th>\n",
       "      <td>1</td>\n",
       "      <td>0</td>\n",
       "      <td>1</td>\n",
       "      <td>1</td>\n",
       "      <td>10.66</td>\n",
       "      <td>13.635</td>\n",
       "      <td>56</td>\n",
       "      <td>2011</td>\n",
       "      <td>2</td>\n",
       "      <td>3</td>\n",
       "      <td>0.0000</td>\n",
       "      <td>49.310040</td>\n",
       "    </tr>\n",
       "    <tr>\n",
       "      <th>3</th>\n",
       "      <td>1</td>\n",
       "      <td>0</td>\n",
       "      <td>1</td>\n",
       "      <td>1</td>\n",
       "      <td>10.66</td>\n",
       "      <td>12.880</td>\n",
       "      <td>56</td>\n",
       "      <td>2011</td>\n",
       "      <td>3</td>\n",
       "      <td>3</td>\n",
       "      <td>11.0014</td>\n",
       "      <td>50.851600</td>\n",
       "    </tr>\n",
       "    <tr>\n",
       "      <th>4</th>\n",
       "      <td>1</td>\n",
       "      <td>0</td>\n",
       "      <td>1</td>\n",
       "      <td>1</td>\n",
       "      <td>10.66</td>\n",
       "      <td>12.880</td>\n",
       "      <td>56</td>\n",
       "      <td>2011</td>\n",
       "      <td>4</td>\n",
       "      <td>3</td>\n",
       "      <td>11.0014</td>\n",
       "      <td>50.851600</td>\n",
       "    </tr>\n",
       "  </tbody>\n",
       "</table>\n",
       "</div>"
      ],
      "text/plain": [
       "   season  holiday  workingday  weather   temp   atemp  humidity  \\\n",
       "0       1        0           1        1  10.66  11.365        56   \n",
       "1       1        0           1        1  10.66  13.635        56   \n",
       "2       1        0           1        1  10.66  13.635        56   \n",
       "3       1        0           1        1  10.66  12.880        56   \n",
       "4       1        0           1        1  10.66  12.880        56   \n",
       "\n",
       "   datetime-year  datetime-hour  datetime-dayofweek  windspeed_ipd        THI  \n",
       "0           2011              0                   3        26.0027  50.578096  \n",
       "1           2011              1                   3         0.0000  49.310040  \n",
       "2           2011              2                   3         0.0000  49.310040  \n",
       "3           2011              3                   3        11.0014  50.851600  \n",
       "4           2011              4                   3        11.0014  50.851600  "
      ]
     },
     "execution_count": 7,
     "metadata": {},
     "output_type": "execute_result"
    }
   ],
   "source": [
    "X_test.head()"
   ]
  },
  {
   "cell_type": "code",
   "execution_count": null,
   "metadata": {},
   "outputs": [],
   "source": []
  }
 ],
 "metadata": {
  "kernelspec": {
   "display_name": "Python 3",
   "language": "python",
   "name": "python3"
  },
  "language_info": {
   "codemirror_mode": {
    "name": "ipython",
    "version": 3
   },
   "file_extension": ".py",
   "mimetype": "text/x-python",
   "name": "python",
   "nbconvert_exporter": "python",
   "pygments_lexer": "ipython3",
   "version": "3.8.5"
  },
  "toc": {
   "base_numbering": 1,
   "nav_menu": {},
   "number_sections": true,
   "sideBar": true,
   "skip_h1_title": false,
   "title_cell": "Table of Contents",
   "title_sidebar": "Contents",
   "toc_cell": false,
   "toc_position": {},
   "toc_section_display": true,
   "toc_window_display": false
  }
 },
 "nbformat": 4,
 "nbformat_minor": 4
}
